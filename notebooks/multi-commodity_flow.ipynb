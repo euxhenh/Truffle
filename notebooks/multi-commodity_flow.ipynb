{
 "cells": [
  {
   "cell_type": "code",
   "outputs": [],
   "source": [
    "# cd to root of folder"
   ],
   "metadata": {
    "collapsed": false
   }
  },
  {
   "cell_type": "code",
   "execution_count": 2,
   "metadata": {
    "ExecuteTime": {
     "end_time": "2024-03-11T14:41:59.283754Z",
     "start_time": "2024-03-11T14:41:59.280104Z"
    }
   },
   "outputs": [
    {
     "name": "stdout",
     "output_type": "stream",
     "text": [
      "/Users/euxhenh/CMU/Research/Projects/Truffle\n"
     ]
    }
   ],
   "source": [
    "cd .."
   ]
  },
  {
   "cell_type": "code",
   "execution_count": null,
   "metadata": {
    "ExecuteTime": {
     "end_time": "2024-01-24T01:17:06.711976Z",
     "start_time": "2024-01-24T01:16:53.945626Z"
    }
   },
   "outputs": [],
   "source": [
    "import pickle\n",
    "\n",
    "import anndata\n",
    "import numpy as np\n",
    "import pandas as pd\n",
    "import seaborn as sns\n",
    "\n",
    "from src.truffle import Truffle"
   ]
  },
  {
   "cell_type": "markdown",
   "metadata": {
    "collapsed": false
   },
   "source": [
    "## Load Data"
   ]
  },
  {
   "cell_type": "code",
   "execution_count": null,
   "metadata": {
    "ExecuteTime": {
     "end_time": "2024-01-24T01:20:40.085456Z",
     "start_time": "2024-01-24T01:20:39.151407Z"
    }
   },
   "outputs": [],
   "source": [
    "name = \"Psoriasis_gse171012_pca20\"\n",
    "# name = \"COVID_gse212041_pca50\"\n",
    "# name = \"Crohn_gse112366_pca20\"\n",
    "name_key = name.split('_')[0]\n",
    "score = None  # 'acuity' for COVID, 'PASI_scores' for psoriaris\n",
    "adata = anndata.read_h5ad(f\"data/{name}.h5ad\")\n",
    "print(adata)"
   ]
  },
  {
   "cell_type": "markdown",
   "metadata": {
    "collapsed": false
   },
   "source": [
    "## Run Truffle"
   ]
  },
  {
   "cell_type": "code",
   "execution_count": null,
   "metadata": {
    "collapsed": false
   },
   "outputs": [],
   "source": [
    "truffle = Truffle(max_path_len='auto')\n",
    "\n",
    "truffle.prepare(\n",
    "    adata,\n",
    "    adj='umap_distance',\n",
    "    subject_id='subj',\n",
    "    time_point='visit',\n",
    "    time_point_order='visit_order',\n",
    ")"
   ]
  },
  {
   "cell_type": "code",
   "execution_count": null,
   "metadata": {
    "collapsed": false
   },
   "outputs": [],
   "source": [
    "# `Termination condition` should be optimal. If not, then no solution\n",
    "# was found and more relaxed parameters should be picked.\n",
    "truffle.fit(edge_capacity=1, node_capacity=None)"
   ]
  },
  {
   "cell_type": "markdown",
   "metadata": {},
   "source": [
    "## Store results"
   ]
  },
  {
   "cell_type": "code",
   "execution_count": null,
   "metadata": {
    "ExecuteTime": {
     "end_time": "2024-01-20T19:49:56.947913Z",
     "start_time": "2024-01-20T19:49:56.883409Z"
    },
    "collapsed": false
   },
   "outputs": [],
   "source": [
    "# Store\n",
    "state_dict = truffle.state_dict()\n",
    "with open(f\"data/dumps/{name}_truffle.pkl\", \"wb\") as f:\n",
    "    pickle.dump(state_dict, f)"
   ]
  },
  {
   "cell_type": "code",
   "execution_count": null,
   "metadata": {
    "ExecuteTime": {
     "end_time": "2024-01-24T01:20:44.793085Z",
     "start_time": "2024-01-24T01:20:44.732851Z"
    },
    "collapsed": false
   },
   "outputs": [],
   "source": [
    "# Load\n",
    "# with open(f\"data/dumps/{name}_truffle.pkl\", \"rb\") as f:\n",
    "#     state_dict = pickle.load(f)\n",
    "# truffle = Truffle.from_state_dict(state_dict)"
   ]
  },
  {
   "cell_type": "markdown",
   "metadata": {
    "collapsed": false
   },
   "source": [
    "## Analysis"
   ]
  },
  {
   "cell_type": "code",
   "execution_count": null,
   "metadata": {
    "ExecuteTime": {
     "end_time": "2024-01-22T22:23:47.845891Z",
     "start_time": "2024-01-22T22:23:47.793592Z"
    },
    "collapsed": false
   },
   "outputs": [],
   "source": [
    "out = truffle.get_state_diagram(\n",
    "    adata,\n",
    "    cluster='leiden',\n",
    "    scores=score,\n",
    "    prune_q=0.5,  # top fraction of edge weight to keep for a simplified diagram\n",
    ")"
   ]
  },
  {
   "cell_type": "code",
   "execution_count": null,
   "metadata": {},
   "outputs": [],
   "source": [
    "sns.heatmap(out['state_diagram'], annot=True, square=True)"
   ]
  },
  {
   "cell_type": "code",
   "execution_count": null,
   "metadata": {
    "ExecuteTime": {
     "end_time": "2024-01-22T22:23:54.699011Z",
     "start_time": "2024-01-22T22:23:51.436596Z"
    },
    "collapsed": false
   },
   "outputs": [],
   "source": [
    "top_paths = truffle.get_top_paths(\n",
    "    out['state_diagram'],\n",
    "    out['initial_states'],\n",
    "    out['final_states'],\n",
    ")"
   ]
  },
  {
   "cell_type": "code",
   "execution_count": null,
   "metadata": {
    "ExecuteTime": {
     "end_time": "2024-01-22T23:14:10.267359Z",
     "start_time": "2024-01-22T23:14:10.250013Z"
    },
    "collapsed": false
   },
   "outputs": [],
   "source": [
    "# top 3 trajectories of length 2\n",
    "stem_paths = [p[0] for p in top_paths.most_common() if len(p[0]) >= 3][:3]\n",
    "# top 3 trajectories of length 3\n",
    "stem_paths.extend([p[0] for p in top_paths.most_common() if len(p[0]) >= 4][:3])\n",
    "# top 3 trajectories of length 4\n",
    "stem_paths.extend([p[0] for p in top_paths.most_common() if len(p[0]) >= 5][:3])\n",
    "print(stem_paths)"
   ]
  },
  {
   "cell_type": "markdown",
   "metadata": {},
   "source": [
    "### Prepare tsv files for STEM"
   ]
  },
  {
   "cell_type": "code",
   "execution_count": null,
   "metadata": {
    "ExecuteTime": {
     "end_time": "2024-01-22T03:10:45.068315Z",
     "start_time": "2024-01-22T03:10:45.055931Z"
    },
    "collapsed": false
   },
   "outputs": [],
   "source": [
    "def prepare_for_STEM(adata, path, method: str = 'Truffle'):\n",
    "    centers = []\n",
    "    for cluster_id in path:\n",
    "        centers.append(adata.uns['leiden_']['cluster_centers_'][str(cluster_id)])\n",
    "    average_exp = np.asarray(centers).T\n",
    "    df = pd.DataFrame(average_exp, index=adata.var_names, columns=path)\n",
    "    df.to_csv(f\"data/STEM/{name_key}/{method}_STEM_{''.join([str(p) for p in path])}.csv\", sep='\\t')"
   ]
  },
  {
   "cell_type": "code",
   "execution_count": null,
   "metadata": {
    "ExecuteTime": {
     "end_time": "2024-01-21T22:47:54.669324Z",
     "start_time": "2024-01-21T22:47:52.895561Z"
    },
    "collapsed": false
   },
   "outputs": [],
   "source": [
    "for p in stem_paths:\n",
    "    prepare_for_STEM(adata, p)"
   ]
  }
 ],
 "metadata": {
  "kernelspec": {
   "display_name": "Python 3 (ipykernel)",
   "language": "python",
   "name": "python3"
  },
  "language_info": {
   "codemirror_mode": {
    "name": "ipython",
    "version": 3
   },
   "file_extension": ".py",
   "mimetype": "text/x-python",
   "name": "python",
   "nbconvert_exporter": "python",
   "pygments_lexer": "ipython3",
   "version": "3.10.13"
  }
 },
 "nbformat": 4,
 "nbformat_minor": 4
}
